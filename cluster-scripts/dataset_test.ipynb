{
 "cells": [
  {
   "cell_type": "code",
   "execution_count": 1,
   "id": "b2bde06f",
   "metadata": {},
   "outputs": [],
   "source": [
    "import argparse\n",
    "import numpy as np\n",
    "from sklearn import datasets\n",
    "from sklearn.utils import shuffle\n",
    "import tensorflow as tf\n",
    "from tensorflow import keras\n",
    "from tensorflow.keras import layers\n",
    "import pygad\n",
    "# import wandb\n",
    "import pandas as pd\n",
    "import tensorflow.keras.backend as K\n",
    "from tensorflow.python.client import device_lib\n",
    "from sklearn.metrics import confusion_matrix, precision_score, recall_score, f1_score\n",
    "\n",
    "# print(device_lib.list_local_devices())\n",
    "\n",
    "import matplotlib.pyplot as plt\n",
    "tf.random.set_seed(0)\n",
    "np.random.seed(0)"
   ]
  },
  {
   "cell_type": "code",
   "execution_count": 23,
   "id": "64f92619",
   "metadata": {},
   "outputs": [
    {
     "name": "stdout",
     "output_type": "stream",
     "text": [
      "07-arrhythmia_pca.csv\n",
      "14.601769911504425\n",
      "%%%%%%%%%%%%%%%%%%%%%%%%%%%%%%%%%\n",
      "10-speech_pca.csv\n",
      "1.6549104720564298\n",
      "%%%%%%%%%%%%%%%%%%%%%%%%%%%%%%%%%\n",
      "04-SPECT_pca.csv\n",
      "20.59925093632959\n",
      "%%%%%%%%%%%%%%%%%%%%%%%%%%%%%%%%%\n",
      "00-pima.csv\n",
      "34.89583333333333\n",
      "%%%%%%%%%%%%%%%%%%%%%%%%%%%%%%%%%\n",
      "02-wineQualityReds-od2.csv\n",
      "3.9399624765478425\n",
      "%%%%%%%%%%%%%%%%%%%%%%%%%%%%%%%%%\n",
      "03-wineQualityWhites-od2.csv\n",
      "3.7362188648427925\n",
      "%%%%%%%%%%%%%%%%%%%%%%%%%%%%%%%%%\n",
      "09-satimage-2_pca.csv\n",
      "1.22350508357746\n",
      "%%%%%%%%%%%%%%%%%%%%%%%%%%%%%%%%%\n",
      "06-letter_pca.csv\n",
      "6.25\n",
      "%%%%%%%%%%%%%%%%%%%%%%%%%%%%%%%%%\n",
      "08-wbc_pca.csv\n",
      "5.555555555555555\n",
      "%%%%%%%%%%%%%%%%%%%%%%%%%%%%%%%%%\n",
      "01-vertebral.csv\n",
      "12.5\n",
      "%%%%%%%%%%%%%%%%%%%%%%%%%%%%%%%%%\n",
      "05-ionosphere_pca.csv\n",
      "35.8974358974359\n",
      "%%%%%%%%%%%%%%%%%%%%%%%%%%%%%%%%%\n",
      "11-optdigits_pca.csv\n",
      "2.875766871165644\n",
      "%%%%%%%%%%%%%%%%%%%%%%%%%%%%%%%%%\n"
     ]
    }
   ],
   "source": [
    "import os\n",
    "\n",
    "root = \"./data/\"\n",
    "dirs = os.listdir(root)\n",
    "for file in dirs:\n",
    "    data = pd.read_csv(os.path.join(root,file))\n",
    "    last_column = data.iloc[:, -1].values\n",
    "    last_column = np.where(last_column == 0, 0, 1)\n",
    "    labels = last_column\n",
    "    data = np.array(data)\n",
    "    data_n = data[:,:-1]\n",
    "    print(file)\n",
    "    print((np.sum(labels)/labels.shape[0])*100)\n",
    "    print(\"%%%%%%%%%%%%%%%%%%%%%%%%%%%%%%%%%\")"
   ]
  },
  {
   "cell_type": "code",
   "execution_count": 18,
   "id": "03f38faf",
   "metadata": {},
   "outputs": [
    {
     "name": "stdout",
     "output_type": "stream",
     "text": [
      "20.59925093632959\n"
     ]
    }
   ],
   "source": [
    "print((np.sum(labels)/labels.shape[0])*100)"
   ]
  },
  {
   "cell_type": "code",
   "execution_count": 24,
   "id": "9b4abc2b",
   "metadata": {},
   "outputs": [
    {
     "data": {
      "text/plain": [
       "(5216, 10)"
      ]
     },
     "execution_count": 24,
     "metadata": {},
     "output_type": "execute_result"
    }
   ],
   "source": [
    "data_n.shape"
   ]
  },
  {
   "cell_type": "code",
   "execution_count": 25,
   "id": "72a45276",
   "metadata": {},
   "outputs": [],
   "source": [
    "data = pd.read_csv(\"./data_od_evaluation/SPECT_pca_gt_copod.csv\")\n",
    "last_column = data.iloc[:, -1].values\n",
    "# last_column = np.where(last_column == 0, 0, 1)\n",
    "labels = last_column\n",
    "data = np.array(data)\n",
    "data_n = data[:,:-1]"
   ]
  },
  {
   "cell_type": "code",
   "execution_count": 27,
   "id": "5f6e11c2",
   "metadata": {},
   "outputs": [
    {
     "data": {
      "text/plain": [
       "array(['[0, 6]', '[3, 6, 7, 8]', '[2, 4, 7, 8]', '[3, 4, 8, 9]',\n",
       "       '[2, 4, 5]', '[1, 3, 6]', '[6, 9]', '[6, 8]', '[0, 6]',\n",
       "       '[1, 6, 9]', '[3, 8, 9]', '[0, 6]', '[0, 6]', '[1, 3, 5, 6]',\n",
       "       '[1, 3, 4, 5, 6]', '[1, 2, 3, 5, 6, 8, 9]',\n",
       "       '[1, 3, 4, 6, 7, 8, 9]', '[0, 1, 6, 8, 9]', '[0, 6]', '[0, 6]',\n",
       "       '[1, 3, 5, 8, 9]', '[0, 6]', '[0, 6]', '[0, 6]', '[0, 6]',\n",
       "       '[0, 6]', '[0, 6]', '[0, 6]', '[1, 3, 8, 9]', '[0, 6]', '[3, 6]',\n",
       "       '[2, 5, 9]', '[1, 2, 3, 4, 5]', '[3, 6]', '[0, 6]', '[1, 3]',\n",
       "       '[1, 7]', '[1, 3]', '[1, 4, 6]', '[1, 3, 8, 9]', '[0, 6]',\n",
       "       '[1, 4, 5, 6, 9]', '[0, 6]', '[3, 4, 5, 6, 7, 9]', '[2, 4, 7, 8]',\n",
       "       '[0, 6]', '[0, 6]', '[1, 3, 5, 7, 8]', '[6, 9]', '[0, 6]',\n",
       "       '[0, 6]', '[1, 2, 8]', '[3, 6, 8]', '[1, 6, 8, 9]', '[0, 4]'],\n",
       "      dtype=object)"
      ]
     },
     "execution_count": 27,
     "metadata": {},
     "output_type": "execute_result"
    }
   ],
   "source": [
    "last_column"
   ]
  },
  {
   "cell_type": "code",
   "execution_count": 32,
   "id": "07aea50e",
   "metadata": {},
   "outputs": [],
   "source": [
    "\n",
    "def real_world_csv_data_loader(name):\n",
    "\n",
    "    if name == \"10-speech_pca.csv\":\n",
    "\n",
    "        csv_file = './data/10-speech_pca.csv'\n",
    "        label_csv_files = ['./data_od_evaluation/speech_pca_gt_copod.csv', \n",
    "                           './data_od_evaluation/speech_pca_gt_hbos.csv',\n",
    "                           './data_od_evaluation/speech_pca_gt_iforest.csv']\n",
    "        data = pd.read_csv(csv_file)\n",
    "\n",
    "        gt_copod = pd.read_csv(label_csv_files[0])\n",
    "        gt_hbos = pd.read_csv(label_csv_files[1])\n",
    "        gt_iforest = pd.read_csv(label_csv_files[2])\n",
    "\n",
    "        last_column = data.iloc[:, -1].values\n",
    "        # last_column = np.where(last_column == 0, 0, 1)\n",
    "        labels = last_column\n",
    "        data = np.array(data)\n",
    "        GTs = [gt_copod, gt_hbos, gt_iforest]\n",
    "        data_n = data[:,:-1]\n",
    "\n",
    "    \n",
    "\n",
    "    return data_n, labels, GTs"
   ]
  },
  {
   "cell_type": "code",
   "execution_count": 33,
   "id": "cea82afc",
   "metadata": {},
   "outputs": [],
   "source": [
    "data_n, labels, GTs = real_world_csv_data_loader(\"10-speech_pca.csv\")"
   ]
  },
  {
   "cell_type": "code",
   "execution_count": 35,
   "id": "3e5fd704",
   "metadata": {},
   "outputs": [
    {
     "data": {
      "text/plain": [
       "(3686, 10)"
      ]
     },
     "execution_count": 35,
     "metadata": {},
     "output_type": "execute_result"
    }
   ],
   "source": [
    "data_n.shape"
   ]
  },
  {
   "cell_type": "code",
   "execution_count": null,
   "id": "9d3d157d",
   "metadata": {},
   "outputs": [],
   "source": []
  }
 ],
 "metadata": {
  "kernelspec": {
   "display_name": "Python 3",
   "language": "python",
   "name": "python3"
  },
  "language_info": {
   "codemirror_mode": {
    "name": "ipython",
    "version": 3
   },
   "file_extension": ".py",
   "mimetype": "text/x-python",
   "name": "python",
   "nbconvert_exporter": "python",
   "pygments_lexer": "ipython3",
   "version": "3.6.13"
  }
 },
 "nbformat": 4,
 "nbformat_minor": 5
}
