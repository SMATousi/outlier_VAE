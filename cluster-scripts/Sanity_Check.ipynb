{
 "cells": [
  {
   "cell_type": "code",
   "execution_count": 1,
   "id": "1451b84e",
   "metadata": {},
   "outputs": [],
   "source": [
    "from genetic_utils import *"
   ]
  },
  {
   "cell_type": "code",
   "execution_count": 2,
   "id": "0b0bb887",
   "metadata": {},
   "outputs": [],
   "source": [
    "from sklearn.metrics import precision_score, recall_score, f1_score"
   ]
  },
  {
   "cell_type": "code",
   "execution_count": 28,
   "id": "88c7c3e7",
   "metadata": {},
   "outputs": [],
   "source": [
    "csv_file = '../dataverse_files/mnist_06_combined.csv'\n",
    "data = pd.read_csv(csv_file)\n",
    "last_column = data.iloc[:, -1].values\n",
    "last_column = np.where(last_column == \"o\", 0, 1)\n",
    "labels = last_column\n",
    "data = np.array(data)\n",
    "data_n = data[:,:-1]"
   ]
  },
  {
   "cell_type": "code",
   "execution_count": 29,
   "id": "f1d3f1e6",
   "metadata": {},
   "outputs": [],
   "source": [
    "num_dims = data_n.shape[1]"
   ]
  },
  {
   "cell_type": "code",
   "execution_count": 23,
   "id": "09fd5d75",
   "metadata": {},
   "outputs": [
    {
     "data": {
      "text/plain": [
       "array([  42, -191, -142,  -65, -117,   55,   49, -170,  -45,    5, -325,\n",
       "       -115, -107, -281, -257, -303,   54, -154, -101,  -47,  -31,  -28,\n",
       "          1,  191,   72,  -38,   50,  -64,  -63,   98, -117, -113,  -46,\n",
       "          2, -135,   25, -159,    1, -143,   38, -169,  -85,  -31, -323,\n",
       "       -234, -334,  -88,  -73, -109,   -4,  -75,  -31,  -14, -137,  105,\n",
       "        -94,   90, -132,    3,    7, -101, -195,   26,  109, -130,   48,\n",
       "       -165,  -80, -133,  -50, -153, -148, -297, -194,  -96, -181,   -5,\n",
       "       -289, -107, -179,  -21,    4,  -34,  115,   15,   15,  -74, -164,\n",
       "        -73,  131, -202,  -15, -115, -308,   26,  -50,  -33,   25, -154,\n",
       "         75, -191,   26, -227, -309, -284, -266, -163, -122, -185, -234,\n",
       "       -212,    0,   -3,   -3,   22,  -12,  156,   36,   82,   31,   82,\n",
       "         70,  111, -110, -133,  -13,  -26,   75, -107, -187,   13, -138,\n",
       "        -77, -129, -224,  -89,   51,  -70,  -19,  -35,  -29,    3,   43,\n",
       "         10, -178, -102, -119,  -57,  -70,   53,  -77, -123, -111, -168,\n",
       "        -54, -195, -238, -302,   60, -120,  -39,   31,   48,  -37,    5,\n",
       "         30])"
      ]
     },
     "execution_count": 23,
     "metadata": {},
     "output_type": "execute_result"
    }
   ],
   "source": [
    "data_n[1,:]"
   ]
  },
  {
   "cell_type": "code",
   "execution_count": 18,
   "id": "0ab4c40f",
   "metadata": {},
   "outputs": [
    {
     "data": {
      "text/plain": [
       "64.97691897897283"
      ]
     },
     "execution_count": 18,
     "metadata": {},
     "output_type": "execute_result"
    }
   ],
   "source": [
    "np.sqrt(4222)"
   ]
  },
  {
   "cell_type": "code",
   "execution_count": 24,
   "id": "5516238c",
   "metadata": {},
   "outputs": [],
   "source": [
    "model, history = train_VAE(data_n, num_dims=num_dims, latent_dim=256,kl_loss_factor = 0.001, hidden_layer_n=[256, 128, 64],epochs = 100, batch_size = 8 )"
   ]
  },
  {
   "cell_type": "code",
   "execution_count": 25,
   "id": "0cf01aca",
   "metadata": {},
   "outputs": [
    {
     "data": {
      "text/plain": [
       "[11933.4365234375,\n",
       " 10308.7041015625,\n",
       " 9257.2099609375,\n",
       " 8457.6640625,\n",
       " 7907.20947265625,\n",
       " 7507.2646484375,\n",
       " 7194.1533203125,\n",
       " 6977.7412109375,\n",
       " 6777.94482421875,\n",
       " 6644.67724609375,\n",
       " 6531.2734375,\n",
       " 6451.53759765625,\n",
       " 6403.8359375,\n",
       " 6329.931640625,\n",
       " 6269.61865234375,\n",
       " 6208.91259765625,\n",
       " 6175.65673828125,\n",
       " 6104.41259765625,\n",
       " 6056.72021484375,\n",
       " 6012.3291015625,\n",
       " 5971.8857421875,\n",
       " 5933.78173828125,\n",
       " 5903.54052734375,\n",
       " 5857.55322265625,\n",
       " 5824.8896484375,\n",
       " 5840.56005859375,\n",
       " 5847.32275390625,\n",
       " 5819.2568359375,\n",
       " 5735.634765625,\n",
       " 5667.48388671875,\n",
       " 5728.92822265625,\n",
       " 5550.78857421875,\n",
       " 5438.32568359375,\n",
       " 5372.53125,\n",
       " 5335.4755859375,\n",
       " 5302.939453125,\n",
       " 5253.61474609375,\n",
       " 5168.1826171875,\n",
       " 5101.82080078125,\n",
       " 5054.14697265625,\n",
       " 4992.037109375,\n",
       " 4937.6259765625,\n",
       " 4875.7734375,\n",
       " 4826.9306640625,\n",
       " 4811.71923828125,\n",
       " 4763.7861328125,\n",
       " 4726.54443359375,\n",
       " 4686.6767578125,\n",
       " 4675.22802734375,\n",
       " 4638.490234375,\n",
       " 4627.09423828125,\n",
       " 4632.65625,\n",
       " 4580.66162109375,\n",
       " 4578.18017578125,\n",
       " 4556.4423828125,\n",
       " 4548.8623046875,\n",
       " 4591.39501953125,\n",
       " 4506.64990234375,\n",
       " 4499.7021484375,\n",
       " 4526.00341796875,\n",
       " 4488.22216796875,\n",
       " 4503.333984375,\n",
       " 4472.97607421875,\n",
       " 4485.677734375,\n",
       " 4457.03173828125,\n",
       " 4461.4736328125,\n",
       " 4498.6064453125,\n",
       " 4444.4375,\n",
       " 4449.529296875,\n",
       " 4433.44580078125,\n",
       " 4446.076171875,\n",
       " 4456.47705078125,\n",
       " 4430.34375,\n",
       " 4428.26611328125,\n",
       " 4430.31396484375,\n",
       " 4431.505859375,\n",
       " 4426.94384765625,\n",
       " 4415.283203125,\n",
       " 4420.57568359375,\n",
       " 4417.365234375,\n",
       " 4457.9814453125,\n",
       " 4427.80517578125,\n",
       " 4413.68115234375,\n",
       " 4423.080078125,\n",
       " 4418.28564453125,\n",
       " 4404.68115234375,\n",
       " 4405.31298828125,\n",
       " 4410.0478515625,\n",
       " 4420.72412109375,\n",
       " 4448.7548828125,\n",
       " 4419.763671875,\n",
       " 4439.76904296875,\n",
       " 4429.7998046875,\n",
       " 4406.640625,\n",
       " 4435.951171875,\n",
       " 4410.05712890625,\n",
       " 4405.8095703125,\n",
       " 4412.36083984375,\n",
       " 4416.79736328125,\n",
       " 4420.947265625]"
      ]
     },
     "execution_count": 25,
     "metadata": {},
     "output_type": "execute_result"
    }
   ],
   "source": [
    "history.history[\"reconstruction_loss\"]"
   ]
  },
  {
   "cell_type": "code",
   "execution_count": 17,
   "id": "89b5420b",
   "metadata": {},
   "outputs": [
    {
     "data": {
      "text/plain": [
       "[7408.37841796875,\n",
       " 5995.4267578125,\n",
       " 5203.39013671875,\n",
       " 4747.6455078125,\n",
       " 4493.34619140625,\n",
       " 4356.11083984375,\n",
       " 4285.36572265625,\n",
       " 4252.86767578125,\n",
       " 4235.39404296875,\n",
       " 4228.11572265625,\n",
       " 4225.28759765625,\n",
       " 4222.96484375,\n",
       " 4222.10888671875,\n",
       " 4223.94921875,\n",
       " 4221.62109375,\n",
       " 4224.046875,\n",
       " 4223.7626953125,\n",
       " 4222.64892578125,\n",
       " 4221.56689453125,\n",
       " 4222.9501953125,\n",
       " 4225.30859375,\n",
       " 4220.72802734375,\n",
       " 4220.9912109375,\n",
       " 4223.39306640625,\n",
       " 4223.38232421875,\n",
       " 4219.10791015625,\n",
       " 4221.68994140625,\n",
       " 4222.37255859375,\n",
       " 4222.08642578125,\n",
       " 4224.810546875,\n",
       " 4223.30322265625,\n",
       " 4224.32373046875,\n",
       " 4220.76025390625,\n",
       " 4223.08935546875,\n",
       " 4222.74365234375,\n",
       " 4221.16455078125,\n",
       " 4222.03857421875,\n",
       " 4224.23828125,\n",
       " 4222.19482421875,\n",
       " 4222.9853515625,\n",
       " 4222.10009765625,\n",
       " 4221.060546875,\n",
       " 4224.708984375,\n",
       " 4223.6279296875,\n",
       " 4223.83935546875,\n",
       " 4219.96142578125,\n",
       " 4225.6552734375,\n",
       " 4219.80126953125,\n",
       " 4223.39306640625,\n",
       " 4222.55419921875,\n",
       " 4224.16259765625,\n",
       " 4221.76904296875,\n",
       " 4223.130859375,\n",
       " 4220.6748046875,\n",
       " 4223.42529296875,\n",
       " 4221.90576171875,\n",
       " 4221.13037109375,\n",
       " 4222.45947265625,\n",
       " 4223.35498046875,\n",
       " 4224.126953125,\n",
       " 4221.43701171875,\n",
       " 4222.84814453125,\n",
       " 4222.8583984375,\n",
       " 4222.7099609375,\n",
       " 4218.28271484375,\n",
       " 4222.2216796875,\n",
       " 4222.10693359375,\n",
       " 4223.36376953125,\n",
       " 4222.17626953125,\n",
       " 4223.87158203125,\n",
       " 4222.33740234375,\n",
       " 4223.1259765625,\n",
       " 4226.61328125,\n",
       " 4223.74072265625,\n",
       " 4222.78466796875,\n",
       " 4221.18505859375,\n",
       " 4219.7978515625,\n",
       " 4221.6279296875,\n",
       " 4221.16455078125,\n",
       " 4221.9697265625,\n",
       " 4221.6923828125,\n",
       " 4220.25341796875,\n",
       " 4223.57958984375,\n",
       " 4221.5166015625,\n",
       " 4223.48828125,\n",
       " 4222.95458984375,\n",
       " 4222.5576171875,\n",
       " 4222.61279296875,\n",
       " 4222.8359375,\n",
       " 4222.22900390625,\n",
       " 4222.75439453125,\n",
       " 4223.216796875,\n",
       " 4223.07861328125,\n",
       " 4223.97705078125,\n",
       " 4220.1962890625,\n",
       " 4221.38916015625,\n",
       " 4222.34326171875,\n",
       " 4222.83154296875,\n",
       " 4221.505859375,\n",
       " 4223.31103515625]"
      ]
     },
     "execution_count": 17,
     "metadata": {},
     "output_type": "execute_result"
    }
   ],
   "source": [
    "history.history[\"reconstruction_loss\"]"
   ]
  },
  {
   "cell_type": "code",
   "execution_count": 11,
   "id": "efb92451",
   "metadata": {},
   "outputs": [],
   "source": [
    "classes = vae_detect_outliers(data_n, model, num_dims, std_k=3)"
   ]
  },
  {
   "cell_type": "code",
   "execution_count": 13,
   "id": "acde33eb",
   "metadata": {},
   "outputs": [
    {
     "name": "stdout",
     "output_type": "stream",
     "text": [
      "Precision: 0.14492753623188406\n",
      "Recall: 0.1\n",
      "F1 Score: 0.1183431952662722\n"
     ]
    }
   ],
   "source": [
    "true_labels = 1 - labels\n",
    "predicted_labels = 1 - classes\n",
    "\n",
    "precision = precision_score(true_labels, predicted_labels)\n",
    "\n",
    "# Calculate recall\n",
    "recall = recall_score(true_labels, predicted_labels)\n",
    "\n",
    "# Calculate F1 score\n",
    "f1 = f1_score(true_labels, predicted_labels)\n",
    "\n",
    "print(\"Precision:\", precision)\n",
    "print(\"Recall:\", recall)\n",
    "print(\"F1 Score:\", f1)"
   ]
  },
  {
   "cell_type": "code",
   "execution_count": 23,
   "id": "e1945051",
   "metadata": {},
   "outputs": [
    {
     "name": "stdout",
     "output_type": "stream",
     "text": [
      "Confusion Matrix (Percentage):\n",
      "[[6931   59]\n",
      " [  90   10]]\n"
     ]
    }
   ],
   "source": [
    "from sklearn.metrics import confusion_matrix\n",
    "import numpy as np\n",
    "# sklearn.metrics.confusion_matrix(lables, 1-classes, labels=None, sample_weight=None, normalize=None)\n",
    "true_labels = 1- labels\n",
    "predicted_labels = 1 - classes\n",
    "\n",
    "cm = confusion_matrix(true_labels, predicted_labels)\n",
    "\n",
    "# Normalize the confusion matrix to get percentages\n",
    "cm_percentage = cm.astype('float') / cm.sum(axis=1)[:, np.newaxis]\n",
    "\n",
    "print(\"Confusion Matrix (Percentage):\")\n",
    "print(cm)"
   ]
  },
  {
   "cell_type": "code",
   "execution_count": 30,
   "id": "0c365bcb",
   "metadata": {},
   "outputs": [],
   "source": [
    "model2, history2 = train_RAE(data_n, num_dims=num_dims,z_loss_w = 0.001,REG_loss_w = 0.001, latent_dim=128, hidden_layer_n=[512, 256, 128], batch_size = 8 )"
   ]
  },
  {
   "cell_type": "code",
   "execution_count": 31,
   "id": "d260ecc7",
   "metadata": {},
   "outputs": [
    {
     "data": {
      "text/plain": [
       "[4879.66943359375,\n",
       " 4167.28271484375,\n",
       " 4167.828125,\n",
       " 4168.07275390625,\n",
       " 4168.25,\n",
       " 4167.69775390625,\n",
       " 4167.66796875,\n",
       " 4168.6826171875,\n",
       " 4167.94482421875,\n",
       " 4167.9169921875,\n",
       " 4168.03076171875,\n",
       " 4168.03076171875,\n",
       " 4168.21484375,\n",
       " 4168.12744140625,\n",
       " 4168.05078125,\n",
       " 4168.03369140625,\n",
       " 4167.84619140625,\n",
       " 4167.8671875,\n",
       " 4167.80712890625,\n",
       " 4167.6064453125,\n",
       " 4168.0537109375,\n",
       " 4167.2734375,\n",
       " 4167.45849609375,\n",
       " 4167.49951171875,\n",
       " 4168.3603515625,\n",
       " 4168.02587890625,\n",
       " 4168.146484375,\n",
       " 4167.69921875,\n",
       " 4168.23486328125,\n",
       " 4167.89013671875,\n",
       " 4167.38232421875,\n",
       " 4168.49560546875,\n",
       " 4168.3310546875,\n",
       " 4168.2802734375,\n",
       " 4167.41845703125,\n",
       " 4167.87255859375,\n",
       " 4167.5546875,\n",
       " 4168.4208984375,\n",
       " 4167.8935546875,\n",
       " 4168.0537109375,\n",
       " 4167.994140625,\n",
       " 4168.30517578125,\n",
       " 4168.3017578125,\n",
       " 4168.34814453125,\n",
       " 4168.12744140625,\n",
       " 4167.6357421875,\n",
       " 4167.712890625,\n",
       " 4168.4912109375,\n",
       " 4167.7568359375,\n",
       " 4168.08203125,\n",
       " 4168.48486328125,\n",
       " 4168.3291015625,\n",
       " 4168.18017578125,\n",
       " 4168.00390625,\n",
       " 4168.02197265625,\n",
       " 4167.767578125,\n",
       " 4168.1201171875,\n",
       " 4168.234375,\n",
       " 4168.11572265625,\n",
       " 4167.2470703125,\n",
       " 4168.03515625,\n",
       " 4167.470703125,\n",
       " 4168.85205078125,\n",
       " 4168.53955078125,\n",
       " 4167.93994140625,\n",
       " 4168.14599609375,\n",
       " 4168.08544921875,\n",
       " 4168.427734375,\n",
       " 4168.00537109375,\n",
       " 4168.287109375,\n",
       " 4168.16845703125,\n",
       " 4168.02490234375,\n",
       " 4167.86767578125,\n",
       " 4167.8408203125,\n",
       " 4167.51025390625,\n",
       " 4166.98974609375,\n",
       " 4167.17529296875,\n",
       " 4168.06591796875,\n",
       " 4167.99951171875,\n",
       " 4167.43359375,\n",
       " 4167.10888671875,\n",
       " 4167.70263671875,\n",
       " 4167.83984375,\n",
       " 4168.19970703125,\n",
       " 4168.43017578125,\n",
       " 4168.056640625,\n",
       " 4168.54248046875,\n",
       " 4168.05615234375,\n",
       " 4167.71533203125,\n",
       " 4167.8310546875,\n",
       " 4167.865234375,\n",
       " 4168.25439453125,\n",
       " 4167.5771484375,\n",
       " 4167.82421875,\n",
       " 4167.4267578125,\n",
       " 4168.67041015625,\n",
       " 4168.21630859375,\n",
       " 4168.18359375,\n",
       " 4168.33984375,\n",
       " 4168.29345703125]"
      ]
     },
     "execution_count": 31,
     "metadata": {},
     "output_type": "execute_result"
    }
   ],
   "source": [
    "history2.history[\"reconstruction_loss\"]"
   ]
  },
  {
   "cell_type": "code",
   "execution_count": 20,
   "id": "9c454273",
   "metadata": {},
   "outputs": [],
   "source": [
    "classes2 = rae_detect_outliers(data_n, model2, num_dims, std_k=3)"
   ]
  },
  {
   "cell_type": "code",
   "execution_count": 21,
   "id": "e4b776be",
   "metadata": {},
   "outputs": [
    {
     "name": "stdout",
     "output_type": "stream",
     "text": [
      "Precision: 0.14492753623188406\n",
      "Recall: 0.1\n",
      "F1 Score: 0.1183431952662722\n"
     ]
    }
   ],
   "source": [
    "true_labels = 1 - labels\n",
    "predicted_labels = 1 - classes2\n",
    "\n",
    "precision = precision_score(true_labels, predicted_labels)\n",
    "\n",
    "# Calculate recall\n",
    "recall = recall_score(true_labels, predicted_labels)\n",
    "\n",
    "# Calculate F1 score\n",
    "f1 = f1_score(true_labels, predicted_labels)\n",
    "\n",
    "print(\"Precision:\", precision)\n",
    "print(\"Recall:\", recall)\n",
    "print(\"F1 Score:\", f1)"
   ]
  },
  {
   "cell_type": "code",
   "execution_count": 22,
   "id": "1ebf3661",
   "metadata": {},
   "outputs": [
    {
     "name": "stdout",
     "output_type": "stream",
     "text": [
      "Confusion Matrix (Percentage):\n",
      "[[6931   59]\n",
      " [  90   10]]\n"
     ]
    }
   ],
   "source": [
    "from sklearn.metrics import confusion_matrix\n",
    "import numpy as np\n",
    "# sklearn.metrics.confusion_matrix(lables, 1-classes, labels=None, sample_weight=None, normalize=None)\n",
    "true_labels = 1- labels\n",
    "predicted_labels = 1 - classes2\n",
    "\n",
    "cm = confusion_matrix(true_labels, predicted_labels)\n",
    "\n",
    "# Normalize the confusion matrix to get percentages\n",
    "cm_percentage = cm.astype('float') / cm.sum(axis=1)[:, np.newaxis]\n",
    "\n",
    "print(\"Confusion Matrix (Percentage):\")\n",
    "print(cm)"
   ]
  },
  {
   "cell_type": "code",
   "execution_count": null,
   "id": "06600c07",
   "metadata": {},
   "outputs": [],
   "source": []
  }
 ],
 "metadata": {
  "kernelspec": {
   "display_name": "Python 3",
   "language": "python",
   "name": "python3"
  },
  "language_info": {
   "codemirror_mode": {
    "name": "ipython",
    "version": 3
   },
   "file_extension": ".py",
   "mimetype": "text/x-python",
   "name": "python",
   "nbconvert_exporter": "python",
   "pygments_lexer": "ipython3",
   "version": "3.6.13"
  }
 },
 "nbformat": 4,
 "nbformat_minor": 5
}
