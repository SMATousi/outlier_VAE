{
 "cells": [
  {
   "cell_type": "code",
   "execution_count": 1,
   "id": "4a9c3313",
   "metadata": {},
   "outputs": [],
   "source": [
    "import numpy as np\n",
    "import pandas as pd\n"
   ]
  },
  {
   "cell_type": "code",
   "execution_count": 49,
   "id": "8509f8dc",
   "metadata": {},
   "outputs": [
    {
     "name": "stdout",
     "output_type": "stream",
     "text": [
      "[1 1 1 ... 0 0 0]\n",
      "(7090, 784)\n"
     ]
    }
   ],
   "source": [
    "# Replace 'your_file.csv' with the path to your CSV file\n",
    "csv_file = './dataverse_files/mnist_25_combined.csv'\n",
    "\n",
    "# Read the CSV file using pandas\n",
    "data = pd.read_csv(csv_file)\n",
    "\n",
    "# Extract the last column and convert it to a numpy array\n",
    "last_column = data.iloc[:, -1].values\n",
    "\n",
    "# Convert \"o\" to 0 and \"n\" to 1 in the last column\n",
    "last_column = np.where(last_column == \"o\", 0, 1)\n",
    "\n",
    "# Print the first few rows of the last column as a numpy array\n",
    "print(last_column)\n",
    "\n",
    "data = np.array(data)\n",
    "\n",
    "data_n = data[:,:-1]\n",
    "labels = last_column\n",
    "\n",
    "print(data_n.shape)"
   ]
  },
  {
   "cell_type": "code",
   "execution_count": 31,
   "id": "92d7e9b8",
   "metadata": {},
   "outputs": [],
   "source": [
    "data = np.array(data)"
   ]
  },
  {
   "cell_type": "code",
   "execution_count": 32,
   "id": "35ab6e6c",
   "metadata": {},
   "outputs": [],
   "source": [
    "data_n = data[:,:-1]\n",
    "labels = last_column"
   ]
  },
  {
   "cell_type": "code",
   "execution_count": 33,
   "id": "7f52437f",
   "metadata": {},
   "outputs": [
    {
     "data": {
      "text/plain": [
       "(1599, 32)"
      ]
     },
     "execution_count": 33,
     "metadata": {},
     "output_type": "execute_result"
    }
   ],
   "source": [
    "data_n.shape"
   ]
  },
  {
   "cell_type": "code",
   "execution_count": 40,
   "id": "7481ec22",
   "metadata": {},
   "outputs": [
    {
     "data": {
      "text/plain": [
       "(46463,)"
      ]
     },
     "execution_count": 40,
     "metadata": {},
     "output_type": "execute_result"
    }
   ],
   "source": [
    "labels.shape"
   ]
  },
  {
   "cell_type": "code",
   "execution_count": null,
   "id": "634142eb",
   "metadata": {},
   "outputs": [],
   "source": []
  },
  {
   "cell_type": "code",
   "execution_count": null,
   "id": "62522fe3",
   "metadata": {},
   "outputs": [],
   "source": []
  },
  {
   "cell_type": "code",
   "execution_count": null,
   "id": "0a2dc588",
   "metadata": {},
   "outputs": [],
   "source": []
  },
  {
   "cell_type": "code",
   "execution_count": null,
   "id": "9b3a83fb",
   "metadata": {},
   "outputs": [],
   "source": []
  },
  {
   "cell_type": "code",
   "execution_count": 48,
   "id": "47e8dae2",
   "metadata": {},
   "outputs": [
    {
     "name": "stderr",
     "output_type": "stream",
     "text": [
      "/home/macula/SMATousi/.conda/envs/mac-deep/lib/python3.7/site-packages/ipykernel_launcher.py:10: DeprecationWarning: `np.int` is a deprecated alias for the builtin `int`. To silence this warning, use `int` by itself. Doing this will not modify any behavior and is safe. When replacing `np.int`, you may wish to use e.g. `np.int64` or `np.int32` to specify the precision. If you wish to review your current use, check the release note link for additional information.\n",
      "Deprecated in NumPy 1.20; for more details and guidance: https://numpy.org/devdocs/release/1.20.0-notes.html#deprecations\n",
      "  # Remove the CWD from sys.path while we load stuff.\n"
     ]
    },
    {
     "data": {
      "text/plain": [
       "'/mnt/data/mnist_combined.csv'"
      ]
     },
     "execution_count": 48,
     "metadata": {},
     "output_type": "execute_result"
    }
   ],
   "source": [
    "import numpy as np\n",
    "import pandas as pd\n",
    "from sklearn.datasets import fetch_openml\n",
    "\n",
    "def prepare_mnist_dataset(class_1=0, class_2=6, n_outliers=100):\n",
    "    # Load MNIST dataset\n",
    "    mnist = fetch_openml('mnist_784', version=1, as_frame=False)\n",
    "\n",
    "    # Extract data and labels\n",
    "    data, labels = mnist['data'], mnist['target'].astype(np.int)\n",
    "\n",
    "    # Select two classes\n",
    "    class_1_data = data[labels == class_1]\n",
    "    class_2_data = data[labels == class_2]\n",
    "\n",
    "    # Select a subset of class_2 as outliers\n",
    "    np.random.shuffle(class_2_data)\n",
    "    outliers = class_2_data[:n_outliers]\n",
    "\n",
    "    # Combine class_1 data and outliers\n",
    "    combined_data = np.vstack([class_1_data, outliers])\n",
    "\n",
    "    # Create labels for normal (n) and outliers (o)\n",
    "    labels = np.array(['n'] * len(class_1_data) + ['o'] * n_outliers)\n",
    "\n",
    "    # Save to a CSV file\n",
    "    df = pd.DataFrame(combined_data)\n",
    "    df['label'] = labels\n",
    "    df.to_csv('./dataverse_files/mnist_25_combined.csv', index=False)\n",
    "\n",
    "    return '/mnt/data/mnist_combined.csv'\n",
    "\n",
    "# Example usage: combine class 0 as inliers and class 1 as outliers\n",
    "csv_file_path = prepare_mnist_dataset(class_1=2, class_2=5, n_outliers=100)\n",
    "\n",
    "csv_file_path"
   ]
  },
  {
   "cell_type": "code",
   "execution_count": 44,
   "id": "157b2626",
   "metadata": {},
   "outputs": [
    {
     "name": "stdout",
     "output_type": "stream",
     "text": [
      "CSV file saved at: ./dataverse_files/fashion_mnist_TP_combined.csv\n"
     ]
    }
   ],
   "source": [
    "import numpy as np\n",
    "import pandas as pd\n",
    "from tensorflow.keras.datasets import fashion_mnist\n",
    "\n",
    "def prepare_fashion_mnist_dataset(class_1=0, class_2=1, n_outliers=100):\n",
    "    # Load Fashion MNIST dataset\n",
    "    (train_images, train_labels), (test_images, test_labels) = fashion_mnist.load_data()\n",
    "\n",
    "    # Combine training and testing data\n",
    "    images = np.concatenate([train_images, test_images])\n",
    "    labels = np.concatenate([train_labels, test_labels])\n",
    "\n",
    "    # Flatten the images to 1D arrays\n",
    "    images_flattened = images.reshape(images.shape[0], -1)\n",
    "\n",
    "    # Select two classes\n",
    "    class_1_data = images_flattened[labels == class_1]\n",
    "    class_2_data = images_flattened[labels == class_2]\n",
    "\n",
    "    # Select a subset of class_2 as outliers\n",
    "    np.random.shuffle(class_2_data)\n",
    "    outliers = class_2_data[:n_outliers]\n",
    "\n",
    "    # Combine class_1 data and outliers\n",
    "    combined_data = np.vstack([class_1_data, outliers])\n",
    "\n",
    "    # Create labels for normal (n) and outliers (o)\n",
    "    labels = np.array(['n'] * len(class_1_data) + ['o'] * n_outliers)\n",
    "\n",
    "    # Save to a CSV file\n",
    "    df = pd.DataFrame(combined_data)\n",
    "    df['label'] = labels\n",
    "    csv_file_path = './dataverse_files/fashion_mnist_TP_combined.csv'\n",
    "    df.to_csv(csv_file_path, index=False)\n",
    "\n",
    "    return csv_file_path\n",
    "\n",
    "# Example usage: combine class 0 (T-shirt/top) as inliers and class 1 (Trouser) as outliers\n",
    "csv_file_path = prepare_fashion_mnist_dataset(class_1=0, class_2=2, n_outliers=100)\n",
    "print(f\"CSV file saved at: {csv_file_path}\")"
   ]
  },
  {
   "cell_type": "code",
   "execution_count": null,
   "id": "1d1ffc95",
   "metadata": {},
   "outputs": [],
   "source": []
  }
 ],
 "metadata": {
  "kernelspec": {
   "display_name": "Python 3 (ipykernel)",
   "language": "python",
   "name": "python3"
  },
  "language_info": {
   "codemirror_mode": {
    "name": "ipython",
    "version": 3
   },
   "file_extension": ".py",
   "mimetype": "text/x-python",
   "name": "python",
   "nbconvert_exporter": "python",
   "pygments_lexer": "ipython3",
   "version": "3.7.13"
  }
 },
 "nbformat": 4,
 "nbformat_minor": 5
}
